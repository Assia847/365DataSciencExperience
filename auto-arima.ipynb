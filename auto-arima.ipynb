{
  "cells": [
    {
      "cell_type": "code",
      "execution_count": null,
      "metadata": {
        "colab": {
          "base_uri": "https://localhost:8080/"
        },
        "id": "Dkf-n7W-W7L9",
        "outputId": "f823aaa5-2ae3-4617-d125-a7b420217a88"
      },
      "outputs": [
        {
          "name": "stdout",
          "output_type": "stream",
          "text": [
            "[*********************100%***********************]  3 of 3 completed\n"
          ]
        }
      ],
      "source": [
        "import pandas \n",
        "import yfinance\n",
        "raw_data = yfinance.download(tickers = \"VOW3.DE, PAH3.DE, BMW.DE\",\n",
        "                             interval = \"1d\", group_by='ticker', auto_adjust= True, treads = True)"
      ]
    },
    {
      "cell_type": "code",
      "execution_count": null,
      "metadata": {
        "colab": {
          "base_uri": "https://localhost:8080/"
        },
        "id": "sJFGHGbNAKYn",
        "outputId": "2a1f2da4-ed6b-45da-eab8-2daa4effee13"
      },
      "outputs": [
        {
          "data": {
            "text/plain": [
              "PAH3.DE  Open      3165\n",
              "         High      3165\n",
              "         Low       3165\n",
              "         Close     3165\n",
              "         Volume    3165\n",
              "VOW3.DE  Open       443\n",
              "         High       443\n",
              "         Low        443\n",
              "         Close      443\n",
              "         Volume     443\n",
              "BMW.DE   Open         0\n",
              "         High         0\n",
              "         Low          0\n",
              "         Close        0\n",
              "         Volume       0\n",
              "dtype: int64"
            ]
          },
          "execution_count": 42,
          "metadata": {},
          "output_type": "execute_result"
        }
      ],
      "source": [
        "raw_data.isna().sum()"
      ]
    },
    {
      "cell_type": "code",
      "execution_count": null,
      "metadata": {
        "id": "XlvdJY_lxCiv"
      },
      "outputs": [],
      "source": [
        "raw_data=raw_data.asfreq(\"b\")\n",
        "raw_data = raw_data.fillna(method = \"bfill\")"
      ]
    },
    {
      "cell_type": "code",
      "execution_count": null,
      "metadata": {
        "colab": {
          "base_uri": "https://localhost:8080/",
          "height": 300
        },
        "id": "DR3EB4h5xXgq",
        "outputId": "f31015af-9e3f-47d0-f0ee-f814807de0ad"
      },
      "outputs": [
        {
          "data": {
            "text/html": [
              "\n",
              "  <div id=\"df-48e247e2-3469-490d-9ed5-41fa9259d8d8\">\n",
              "    <div class=\"colab-df-container\">\n",
              "      <div>\n",
              "<style scoped>\n",
              "    .dataframe tbody tr th:only-of-type {\n",
              "        vertical-align: middle;\n",
              "    }\n",
              "\n",
              "    .dataframe tbody tr th {\n",
              "        vertical-align: top;\n",
              "    }\n",
              "\n",
              "    .dataframe thead th {\n",
              "        text-align: right;\n",
              "    }\n",
              "</style>\n",
              "<table border=\"1\" class=\"dataframe\">\n",
              "  <thead>\n",
              "    <tr style=\"text-align: right;\">\n",
              "      <th></th>\n",
              "      <th>Open</th>\n",
              "      <th>High</th>\n",
              "      <th>Low</th>\n",
              "      <th>Close</th>\n",
              "      <th>Volume</th>\n",
              "    </tr>\n",
              "  </thead>\n",
              "  <tbody>\n",
              "    <tr>\n",
              "      <th>count</th>\n",
              "      <td>6791.000000</td>\n",
              "      <td>6791.000000</td>\n",
              "      <td>6791.000000</td>\n",
              "      <td>6791.000000</td>\n",
              "      <td>6.791000e+03</td>\n",
              "    </tr>\n",
              "    <tr>\n",
              "      <th>mean</th>\n",
              "      <td>36.864318</td>\n",
              "      <td>37.300372</td>\n",
              "      <td>36.384012</td>\n",
              "      <td>36.849278</td>\n",
              "      <td>2.187155e+06</td>\n",
              "    </tr>\n",
              "    <tr>\n",
              "      <th>std</th>\n",
              "      <td>21.847711</td>\n",
              "      <td>22.034506</td>\n",
              "      <td>21.633386</td>\n",
              "      <td>21.840361</td>\n",
              "      <td>1.478616e+06</td>\n",
              "    </tr>\n",
              "    <tr>\n",
              "      <th>min</th>\n",
              "      <td>9.328610</td>\n",
              "      <td>9.348643</td>\n",
              "      <td>9.142151</td>\n",
              "      <td>9.293167</td>\n",
              "      <td>0.000000e+00</td>\n",
              "    </tr>\n",
              "    <tr>\n",
              "      <th>25%</th>\n",
              "      <td>18.663511</td>\n",
              "      <td>18.926166</td>\n",
              "      <td>18.346717</td>\n",
              "      <td>18.637691</td>\n",
              "      <td>1.285535e+06</td>\n",
              "    </tr>\n",
              "    <tr>\n",
              "      <th>50%</th>\n",
              "      <td>25.310211</td>\n",
              "      <td>25.574000</td>\n",
              "      <td>25.033846</td>\n",
              "      <td>25.304018</td>\n",
              "      <td>1.883699e+06</td>\n",
              "    </tr>\n",
              "    <tr>\n",
              "      <th>75%</th>\n",
              "      <td>57.296951</td>\n",
              "      <td>57.845506</td>\n",
              "      <td>56.628138</td>\n",
              "      <td>57.241077</td>\n",
              "      <td>2.700980e+06</td>\n",
              "    </tr>\n",
              "    <tr>\n",
              "      <th>max</th>\n",
              "      <td>92.837648</td>\n",
              "      <td>93.339571</td>\n",
              "      <td>91.759437</td>\n",
              "      <td>92.317131</td>\n",
              "      <td>2.871954e+07</td>\n",
              "    </tr>\n",
              "  </tbody>\n",
              "</table>\n",
              "</div>\n",
              "      <button class=\"colab-df-convert\" onclick=\"convertToInteractive('df-48e247e2-3469-490d-9ed5-41fa9259d8d8')\"\n",
              "              title=\"Convert this dataframe to an interactive table.\"\n",
              "              style=\"display:none;\">\n",
              "        \n",
              "  <svg xmlns=\"http://www.w3.org/2000/svg\" height=\"24px\"viewBox=\"0 0 24 24\"\n",
              "       width=\"24px\">\n",
              "    <path d=\"M0 0h24v24H0V0z\" fill=\"none\"/>\n",
              "    <path d=\"M18.56 5.44l.94 2.06.94-2.06 2.06-.94-2.06-.94-.94-2.06-.94 2.06-2.06.94zm-11 1L8.5 8.5l.94-2.06 2.06-.94-2.06-.94L8.5 2.5l-.94 2.06-2.06.94zm10 10l.94 2.06.94-2.06 2.06-.94-2.06-.94-.94-2.06-.94 2.06-2.06.94z\"/><path d=\"M17.41 7.96l-1.37-1.37c-.4-.4-.92-.59-1.43-.59-.52 0-1.04.2-1.43.59L10.3 9.45l-7.72 7.72c-.78.78-.78 2.05 0 2.83L4 21.41c.39.39.9.59 1.41.59.51 0 1.02-.2 1.41-.59l7.78-7.78 2.81-2.81c.8-.78.8-2.07 0-2.86zM5.41 20L4 18.59l7.72-7.72 1.47 1.35L5.41 20z\"/>\n",
              "  </svg>\n",
              "      </button>\n",
              "      \n",
              "  <style>\n",
              "    .colab-df-container {\n",
              "      display:flex;\n",
              "      flex-wrap:wrap;\n",
              "      gap: 12px;\n",
              "    }\n",
              "\n",
              "    .colab-df-convert {\n",
              "      background-color: #E8F0FE;\n",
              "      border: none;\n",
              "      border-radius: 50%;\n",
              "      cursor: pointer;\n",
              "      display: none;\n",
              "      fill: #1967D2;\n",
              "      height: 32px;\n",
              "      padding: 0 0 0 0;\n",
              "      width: 32px;\n",
              "    }\n",
              "\n",
              "    .colab-df-convert:hover {\n",
              "      background-color: #E2EBFA;\n",
              "      box-shadow: 0px 1px 2px rgba(60, 64, 67, 0.3), 0px 1px 3px 1px rgba(60, 64, 67, 0.15);\n",
              "      fill: #174EA6;\n",
              "    }\n",
              "\n",
              "    [theme=dark] .colab-df-convert {\n",
              "      background-color: #3B4455;\n",
              "      fill: #D2E3FC;\n",
              "    }\n",
              "\n",
              "    [theme=dark] .colab-df-convert:hover {\n",
              "      background-color: #434B5C;\n",
              "      box-shadow: 0px 1px 3px 1px rgba(0, 0, 0, 0.15);\n",
              "      filter: drop-shadow(0px 1px 2px rgba(0, 0, 0, 0.3));\n",
              "      fill: #FFFFFF;\n",
              "    }\n",
              "  </style>\n",
              "\n",
              "      <script>\n",
              "        const buttonEl =\n",
              "          document.querySelector('#df-48e247e2-3469-490d-9ed5-41fa9259d8d8 button.colab-df-convert');\n",
              "        buttonEl.style.display =\n",
              "          google.colab.kernel.accessAllowed ? 'block' : 'none';\n",
              "\n",
              "        async function convertToInteractive(key) {\n",
              "          const element = document.querySelector('#df-48e247e2-3469-490d-9ed5-41fa9259d8d8');\n",
              "          const dataTable =\n",
              "            await google.colab.kernel.invokeFunction('convertToInteractive',\n",
              "                                                     [key], {});\n",
              "          if (!dataTable) return;\n",
              "\n",
              "          const docLinkHtml = 'Like what you see? Visit the ' +\n",
              "            '<a target=\"_blank\" href=https://colab.research.google.com/notebooks/data_table.ipynb>data table notebook</a>'\n",
              "            + ' to learn more about interactive tables.';\n",
              "          element.innerHTML = '';\n",
              "          dataTable['output_type'] = 'display_data';\n",
              "          await google.colab.output.renderOutput(dataTable, element);\n",
              "          const docLink = document.createElement('div');\n",
              "          docLink.innerHTML = docLinkHtml;\n",
              "          element.appendChild(docLink);\n",
              "        }\n",
              "      </script>\n",
              "    </div>\n",
              "  </div>\n",
              "  "
            ],
            "text/plain": [
              "              Open         High          Low        Close        Volume\n",
              "count  6791.000000  6791.000000  6791.000000  6791.000000  6.791000e+03\n",
              "mean     36.864318    37.300372    36.384012    36.849278  2.187155e+06\n",
              "std      21.847711    22.034506    21.633386    21.840361  1.478616e+06\n",
              "min       9.328610     9.348643     9.142151     9.293167  0.000000e+00\n",
              "25%      18.663511    18.926166    18.346717    18.637691  1.285535e+06\n",
              "50%      25.310211    25.574000    25.033846    25.304018  1.883699e+06\n",
              "75%      57.296951    57.845506    56.628138    57.241077  2.700980e+06\n",
              "max      92.837648    93.339571    91.759437    92.317131  2.871954e+07"
            ]
          },
          "execution_count": 44,
          "metadata": {},
          "output_type": "execute_result"
        }
      ],
      "source": [
        "raw_data[\"BMW.DE\"].describe()"
      ]
    },
    {
      "cell_type": "code",
      "execution_count": null,
      "metadata": {
        "id": "tnCkCSIqxJ3o"
      },
      "outputs": [],
      "source": [
        "start_date_2010 = \"2010-01-01\"\n",
        "end_date_2010 = \"2010-12-31\"\n",
        "start_date_2011 = \"2011-01-01\"\n",
        "end_date_2011 = \"2011-12-31\""
      ]
    },
    {
      "cell_type": "code",
      "execution_count": null,
      "metadata": {
        "colab": {
          "base_uri": "https://localhost:8080/"
        },
        "id": "Q7eczpXDA7lT",
        "outputId": "e5fde657-f462-44ff-91a7-1633b84fedff"
      },
      "outputs": [
        {
          "data": {
            "text/plain": [
              "0.6499594499811755"
            ]
          },
          "execution_count": 46,
          "metadata": {},
          "output_type": "execute_result"
        }
      ],
      "source": [
        "raw_data['VOW3.DE'][start_date_2010:end_date_2010].Close.corr(raw_data['PAH3.DE'][start_date_2010:end_date_2010].Close)\n"
      ]
    },
    {
      "cell_type": "code",
      "execution_count": null,
      "metadata": {
        "colab": {
          "base_uri": "https://localhost:8080/"
        },
        "id": "rziZVIynyKUG",
        "outputId": "ec15506b-0388-4ceb-d315-4a310bfb665a"
      },
      "outputs": [
        {
          "data": {
            "text/plain": [
              "0.5991603661880602"
            ]
          },
          "execution_count": 47,
          "metadata": {},
          "output_type": "execute_result"
        }
      ],
      "source": [
        "raw_data['VOW3.DE'][start_date_2011:end_date_2011].Close.corr(raw_data['PAH3.DE'][start_date_2011:end_date_2011].Close)"
      ]
    },
    {
      "cell_type": "code",
      "execution_count": null,
      "metadata": {
        "id": "i_mkIcI8zaCB"
      },
      "outputs": [],
      "source": [
        "start_date_2009 = \"2009-01-01\"\n",
        "end_date_2009 = \"2009-12-31\""
      ]
    },
    {
      "cell_type": "code",
      "execution_count": null,
      "metadata": {
        "colab": {
          "background_save": true
        },
        "id": "KgzqkEShB-aw"
      },
      "outputs": [],
      "source": [
        "from pmdarima.arima import auto_arima\n",
        "mod_pr_pour_2011 = auto_arima(raw_data['VOW3.DE'][start_date_2011:end_date_2011].Close,\n",
        "                              exogenous = raw_data[['PAH3.DE','BMW.DE']][start_date_2009:end_date_2009],\n",
        "                              m=5,\n",
        "                              max_p = 5,\n",
        "                              max_q = 5)"
      ]
    },
    {
      "cell_type": "code",
      "execution_count": null,
      "metadata": {
        "colab": {
          "base_uri": "https://localhost:8080/",
          "height": 407
        },
        "id": "2cnWm5P-Ignk",
        "outputId": "4f6aab4b-5ae5-4fcd-8cb7-7f49eb7c41a2"
      },
      "outputs": [
        {
          "data": {
            "text/html": [
              "<table class=\"simpletable\">\n",
              "<caption>SARIMAX Results</caption>\n",
              "<tr>\n",
              "  <th>Dep. Variable:</th>           <td>y</td>        <th>  No. Observations:  </th>    <td>261</td>  \n",
              "</tr>\n",
              "<tr>\n",
              "  <th>Model:</th>           <td>SARIMAX(1, 1, 0)</td> <th>  Log Likelihood     </th> <td>-350.950</td>\n",
              "</tr>\n",
              "<tr>\n",
              "  <th>Date:</th>            <td>Mon, 21 Nov 2022</td> <th>  AIC                </th>  <td>705.900</td>\n",
              "</tr>\n",
              "<tr>\n",
              "  <th>Time:</th>                <td>07:41:06</td>     <th>  BIC                </th>  <td>713.022</td>\n",
              "</tr>\n",
              "<tr>\n",
              "  <th>Sample:</th>             <td>01-01-2009</td>    <th>  HQIC               </th>  <td>708.763</td>\n",
              "</tr>\n",
              "<tr>\n",
              "  <th></th>                   <td>- 12-31-2009</td>   <th>                     </th>     <td> </td>   \n",
              "</tr>\n",
              "<tr>\n",
              "  <th>Covariance Type:</th>        <td>opg</td>       <th>                     </th>     <td> </td>   \n",
              "</tr>\n",
              "</table>\n",
              "<table class=\"simpletable\">\n",
              "<tr>\n",
              "     <td></td>       <th>coef</th>     <th>std err</th>      <th>z</th>      <th>P>|z|</th>  <th>[0.025</th>    <th>0.975]</th>  \n",
              "</tr>\n",
              "<tr>\n",
              "  <th>ar.L1</th>  <td>    0.1495</td> <td>    0.057</td> <td>    2.608</td> <td> 0.009</td> <td>    0.037</td> <td>    0.262</td>\n",
              "</tr>\n",
              "<tr>\n",
              "  <th>sigma2</th> <td>    0.8708</td> <td>    0.037</td> <td>   23.538</td> <td> 0.000</td> <td>    0.798</td> <td>    0.943</td>\n",
              "</tr>\n",
              "</table>\n",
              "<table class=\"simpletable\">\n",
              "<tr>\n",
              "  <th>Ljung-Box (L1) (Q):</th>     <td>0.00</td> <th>  Jarque-Bera (JB):  </th> <td>483.15</td>\n",
              "</tr>\n",
              "<tr>\n",
              "  <th>Prob(Q):</th>                <td>0.97</td> <th>  Prob(JB):          </th>  <td>0.00</td> \n",
              "</tr>\n",
              "<tr>\n",
              "  <th>Heteroskedasticity (H):</th> <td>0.56</td> <th>  Skew:              </th>  <td>-0.67</td>\n",
              "</tr>\n",
              "<tr>\n",
              "  <th>Prob(H) (two-sided):</th>    <td>0.01</td> <th>  Kurtosis:          </th>  <td>9.54</td> \n",
              "</tr>\n",
              "</table><br/><br/>Warnings:<br/>[1] Covariance matrix calculated using the outer product of gradients (complex-step)."
            ],
            "text/plain": [
              "<class 'statsmodels.iolib.summary.Summary'>\n",
              "\"\"\"\n",
              "                               SARIMAX Results                                \n",
              "==============================================================================\n",
              "Dep. Variable:                      y   No. Observations:                  261\n",
              "Model:               SARIMAX(1, 1, 0)   Log Likelihood                -350.950\n",
              "Date:                Mon, 21 Nov 2022   AIC                            705.900\n",
              "Time:                        07:41:06   BIC                            713.022\n",
              "Sample:                    01-01-2009   HQIC                           708.763\n",
              "                         - 12-31-2009                                         \n",
              "Covariance Type:                  opg                                         \n",
              "==============================================================================\n",
              "                 coef    std err          z      P>|z|      [0.025      0.975]\n",
              "------------------------------------------------------------------------------\n",
              "ar.L1          0.1495      0.057      2.608      0.009       0.037       0.262\n",
              "sigma2         0.8708      0.037     23.538      0.000       0.798       0.943\n",
              "===================================================================================\n",
              "Ljung-Box (L1) (Q):                   0.00   Jarque-Bera (JB):               483.15\n",
              "Prob(Q):                              0.97   Prob(JB):                         0.00\n",
              "Heteroskedasticity (H):               0.56   Skew:                            -0.67\n",
              "Prob(H) (two-sided):                  0.01   Kurtosis:                         9.54\n",
              "===================================================================================\n",
              "\n",
              "Warnings:\n",
              "[1] Covariance matrix calculated using the outer product of gradients (complex-step).\n",
              "\"\"\""
            ]
          },
          "execution_count": 63,
          "metadata": {},
          "output_type": "execute_result"
        }
      ],
      "source": [
        "mod_pr_pour_2009.summary()"
      ]
    },
    {
      "cell_type": "code",
      "execution_count": null,
      "metadata": {
        "id": "-2OjIdcuGh4Z"
      },
      "outputs": [],
      "source": [
        "raw_data['ret_vol']= raw_data['VOW3.DE'].Close.pct_change(1).mul(100)\n",
        "raw_data['ret_por']= raw_data['PAH3.DE'].Close.pct_change(1).mul(100)\n",
        "raw_data['ret_bmw']= raw_data['BMW.DE'].Close.pct_change(1).mul(100)\n",
        "\n",
        "from pmdarima.arima import auto_arima\n",
        "mod_pr_pour_2009 = auto_arima(raw_data['ret_vol'][start_date_2009:end_date_2009],\n",
        "                              exogenous = raw_data[['ret_por','ret_bmw']][start_date_2009:end_date_2009],\n",
        "                              m=5,\n",
        "                              max_p = 5,\n",
        "                              max_q = 5)"
      ]
    },
    {
      "cell_type": "code",
      "execution_count": null,
      "metadata": {
        "colab": {
          "base_uri": "https://localhost:8080/",
          "height": 386
        },
        "id": "l1DVFB3JCV9D",
        "outputId": "8dfb026a-4567-4518-8687-3a389448f2e0"
      },
      "outputs": [
        {
          "data": {
            "text/html": [
              "<table class=\"simpletable\">\n",
              "<caption>SARIMAX Results</caption>\n",
              "<tr>\n",
              "  <th>Dep. Variable:</th>           <td>y</td>        <th>  No. Observations:  </th>    <td>261</td>  \n",
              "</tr>\n",
              "<tr>\n",
              "  <th>Model:</th>                <td>SARIMAX</td>     <th>  Log Likelihood     </th> <td>-706.996</td>\n",
              "</tr>\n",
              "<tr>\n",
              "  <th>Date:</th>            <td>Mon, 21 Nov 2022</td> <th>  AIC                </th> <td>1415.993</td>\n",
              "</tr>\n",
              "<tr>\n",
              "  <th>Time:</th>                <td>07:37:11</td>     <th>  BIC                </th> <td>1419.557</td>\n",
              "</tr>\n",
              "<tr>\n",
              "  <th>Sample:</th>             <td>01-01-2009</td>    <th>  HQIC               </th> <td>1417.425</td>\n",
              "</tr>\n",
              "<tr>\n",
              "  <th></th>                   <td>- 12-31-2009</td>   <th>                     </th>     <td> </td>   \n",
              "</tr>\n",
              "<tr>\n",
              "  <th>Covariance Type:</th>        <td>opg</td>       <th>                     </th>     <td> </td>   \n",
              "</tr>\n",
              "</table>\n",
              "<table class=\"simpletable\">\n",
              "<tr>\n",
              "     <td></td>       <th>coef</th>     <th>std err</th>      <th>z</th>      <th>P>|z|</th>  <th>[0.025</th>    <th>0.975]</th>  \n",
              "</tr>\n",
              "<tr>\n",
              "  <th>sigma2</th> <td>   13.1934</td> <td>    0.772</td> <td>   17.092</td> <td> 0.000</td> <td>   11.680</td> <td>   14.706</td>\n",
              "</tr>\n",
              "</table>\n",
              "<table class=\"simpletable\">\n",
              "<tr>\n",
              "  <th>Ljung-Box (L1) (Q):</th>     <td>0.16</td> <th>  Jarque-Bera (JB):  </th> <td>67.74</td>\n",
              "</tr>\n",
              "<tr>\n",
              "  <th>Prob(Q):</th>                <td>0.69</td> <th>  Prob(JB):          </th> <td>0.00</td> \n",
              "</tr>\n",
              "<tr>\n",
              "  <th>Heteroskedasticity (H):</th> <td>0.55</td> <th>  Skew:              </th> <td>0.02</td> \n",
              "</tr>\n",
              "<tr>\n",
              "  <th>Prob(H) (two-sided):</th>    <td>0.01</td> <th>  Kurtosis:          </th> <td>5.50</td> \n",
              "</tr>\n",
              "</table><br/><br/>Warnings:<br/>[1] Covariance matrix calculated using the outer product of gradients (complex-step)."
            ],
            "text/plain": [
              "<class 'statsmodels.iolib.summary.Summary'>\n",
              "\"\"\"\n",
              "                               SARIMAX Results                                \n",
              "==============================================================================\n",
              "Dep. Variable:                      y   No. Observations:                  261\n",
              "Model:                        SARIMAX   Log Likelihood                -706.996\n",
              "Date:                Mon, 21 Nov 2022   AIC                           1415.993\n",
              "Time:                        07:37:11   BIC                           1419.557\n",
              "Sample:                    01-01-2009   HQIC                          1417.425\n",
              "                         - 12-31-2009                                         \n",
              "Covariance Type:                  opg                                         \n",
              "==============================================================================\n",
              "                 coef    std err          z      P>|z|      [0.025      0.975]\n",
              "------------------------------------------------------------------------------\n",
              "sigma2        13.1934      0.772     17.092      0.000      11.680      14.706\n",
              "===================================================================================\n",
              "Ljung-Box (L1) (Q):                   0.16   Jarque-Bera (JB):                67.74\n",
              "Prob(Q):                              0.69   Prob(JB):                         0.00\n",
              "Heteroskedasticity (H):               0.55   Skew:                             0.02\n",
              "Prob(H) (two-sided):                  0.01   Kurtosis:                         5.50\n",
              "===================================================================================\n",
              "\n",
              "Warnings:\n",
              "[1] Covariance matrix calculated using the outer product of gradients (complex-step).\n",
              "\"\"\""
            ]
          },
          "execution_count": 61,
          "metadata": {},
          "output_type": "execute_result"
        }
      ],
      "source": [
        "mod_pr_pour_2009.summary()"
      ]
    },
    {
      "cell_type": "code",
      "execution_count": null,
      "metadata": {
        "id": "ZUi3ykkXCY2_"
      },
      "outputs": [],
      "source": []
    }
  ],
  "metadata": {
    "colab": {
      "provenance": []
    },
    "kernelspec": {
      "display_name": "Python 3",
      "name": "python3"
    },
    "language_info": {
      "name": "python"
    }
  },
  "nbformat": 4,
  "nbformat_minor": 0
}